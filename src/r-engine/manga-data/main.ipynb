{
  "cells": [
    {
      "cell_type": "markdown",
      "metadata": {
        "id": "5KdKt43Y7sGW"
      },
      "source": [
        "# Manga Recommender with Collaborative Filtering\n",
        "![reco](https://whalescans.com/twitter-image.png)"
      ]
    },
    {
      "cell_type": "markdown",
      "metadata": {
        "id": "9-fnXVuO8XQ0"
      },
      "source": [
        "\n",
        "## Collaborative Filtering\n",
        "\n",
        "Collaborative filtering represents a fundamental method employed within numerous recommendation systems, facilitating the prognostication of user preferences by leveraging data derived from other users. This technique is grounded in the assumption that users who have exhibited comparable preferences historically are inclined to continue exhibiting congruent preferences in the future. `Singular Value Decomposition (SVD)` emerges as a precise `matrix factorization` technique employed for effecting such predictions. In the context of constructing our manga recommender, we will harness the implementation of SVD provided by the Numpy library."
      ]
    },
    {
      "cell_type": "markdown",
      "metadata": {
        "id": "TgqEEYd38kED"
      },
      "source": [
        "## Let's start by installing and importing the libraries"
      ]
    },
    {
      "cell_type": "code",
      "execution_count": 1,
      "metadata": {
        "id": "2jXSVspr7sGe"
      },
      "outputs": [
        {
          "name": "stdout",
          "output_type": "stream",
          "text": [
            "Requirement already satisfied: lancedb in /usr/local/lib/python3.11/site-packages (0.6.8)\n",
            "Requirement already satisfied: pandas in /usr/local/lib/python3.11/site-packages (2.2.2)\n",
            "Requirement already satisfied: deprecation in /usr/local/lib/python3.11/site-packages (from lancedb) (2.1.0)\n",
            "Requirement already satisfied: pylance==0.10.10 in /usr/local/lib/python3.11/site-packages (from lancedb) (0.10.10)\n",
            "Requirement already satisfied: ratelimiter~=1.0 in /usr/local/lib/python3.11/site-packages (from lancedb) (1.2.0.post0)\n",
            "Requirement already satisfied: requests>=2.31.0 in /usr/local/lib/python3.11/site-packages (from lancedb) (2.31.0)\n",
            "Requirement already satisfied: retry>=0.9.2 in /usr/local/lib/python3.11/site-packages (from lancedb) (0.9.2)\n",
            "Requirement already satisfied: tqdm>=4.27.0 in /usr/local/lib/python3.11/site-packages (from lancedb) (4.66.2)\n",
            "Requirement already satisfied: pydantic>=1.10 in /usr/local/lib/python3.11/site-packages (from lancedb) (2.7.0)\n",
            "Requirement already satisfied: attrs>=21.3.0 in /usr/local/lib/python3.11/site-packages (from lancedb) (23.2.0)\n",
            "Requirement already satisfied: semver>=3.0 in /usr/local/lib/python3.11/site-packages (from lancedb) (3.0.2)\n",
            "Requirement already satisfied: cachetools in /usr/local/lib/python3.11/site-packages (from lancedb) (5.3.3)\n",
            "Requirement already satisfied: overrides>=0.7 in /usr/local/lib/python3.11/site-packages (from lancedb) (7.7.0)\n",
            "Requirement already satisfied: pyarrow<15.0.1,>=12 in /usr/local/lib/python3.11/site-packages (from pylance==0.10.10->lancedb) (15.0.0)\n",
            "Requirement already satisfied: numpy>=1.22 in /usr/local/lib/python3.11/site-packages (from pylance==0.10.10->lancedb) (1.26.4)\n",
            "Requirement already satisfied: python-dateutil>=2.8.2 in /usr/local/lib/python3.11/site-packages (from pandas) (2.9.0.post0)\n",
            "Requirement already satisfied: pytz>=2020.1 in /usr/local/lib/python3.11/site-packages (from pandas) (2024.1)\n",
            "Requirement already satisfied: tzdata>=2022.7 in /usr/local/lib/python3.11/site-packages (from pandas) (2024.1)\n",
            "Requirement already satisfied: annotated-types>=0.4.0 in /usr/local/lib/python3.11/site-packages (from pydantic>=1.10->lancedb) (0.6.0)\n",
            "Requirement already satisfied: pydantic-core==2.18.1 in /usr/local/lib/python3.11/site-packages (from pydantic>=1.10->lancedb) (2.18.1)\n",
            "Requirement already satisfied: typing-extensions>=4.6.1 in /usr/local/lib/python3.11/site-packages (from pydantic>=1.10->lancedb) (4.11.0)\n",
            "Requirement already satisfied: six>=1.5 in /usr/local/lib/python3.11/site-packages (from python-dateutil>=2.8.2->pandas) (1.16.0)\n",
            "Requirement already satisfied: charset-normalizer<4,>=2 in /usr/local/lib/python3.11/site-packages (from requests>=2.31.0->lancedb) (3.3.2)\n",
            "Requirement already satisfied: idna<4,>=2.5 in /usr/local/lib/python3.11/site-packages (from requests>=2.31.0->lancedb) (3.7)\n",
            "Requirement already satisfied: urllib3<3,>=1.21.1 in /usr/local/lib/python3.11/site-packages (from requests>=2.31.0->lancedb) (2.2.1)\n",
            "Requirement already satisfied: certifi>=2017.4.17 in /usr/local/lib/python3.11/site-packages (from requests>=2.31.0->lancedb) (2024.2.2)\n",
            "Requirement already satisfied: decorator>=3.4.2 in /usr/local/lib/python3.11/site-packages (from retry>=0.9.2->lancedb) (5.1.1)\n",
            "Requirement already satisfied: py<2.0.0,>=1.4.26 in /usr/local/lib/python3.11/site-packages (from retry>=0.9.2->lancedb) (1.11.0)\n",
            "Requirement already satisfied: packaging in /usr/local/lib/python3.11/site-packages (from deprecation->lancedb) (23.2)\n",
            "\u001b[33mWARNING: Running pip as the 'root' user can result in broken permissions and conflicting behaviour with the system package manager. It is recommended to use a virtual environment instead: https://pip.pypa.io/warnings/venv\u001b[0m\u001b[33m\n",
            "\u001b[0mNote: you may need to restart the kernel to use updated packages.\n"
          ]
        }
      ],
      "source": [
        "%pip install lancedb pandas"
      ]
    },
    {
      "cell_type": "code",
      "execution_count": 5,
      "metadata": {},
      "outputs": [],
      "source": [
        "import httpx\n",
        "import csv\n",
        "import asyncio"
      ]
    },
    {
      "cell_type": "code",
      "execution_count": 4,
      "metadata": {},
      "outputs": [],
      "source": [
        "# Your FastAPI application's base URL\n",
        "BASE_URL = 'https://svelte-manga-api.valiantlynx.com'\n",
        "GENRES = ['Action',\n",
        " 'Adventure',\n",
        " 'Comedy',\n",
        " 'Cooking',\n",
        " 'Doujinshi',\n",
        " 'Drama',\n",
        " 'Erotica',\n",
        " 'Fantasy',\n",
        " 'Gender bender',\n",
        " 'Harem',\n",
        " 'Historical',\n",
        " 'Horror',\n",
        " 'Isekai',\n",
        " 'Josei',\n",
        " 'Manhua',\n",
        " 'Manhwa',\n",
        " 'Martial arts',\n",
        " 'Mature',\n",
        " 'Mecha',\n",
        " 'Medical',\n",
        " 'Mystery',\n",
        " 'One shot',\n",
        " 'Pornographic',\n",
        " 'Psychological',\n",
        " 'Romance',\n",
        " 'School life',\n",
        " 'Sci fi',\n",
        " 'Seinen',\n",
        " 'Shoujo',\n",
        " 'Shoujo ai',\n",
        " 'Shounen',\n",
        " 'Shounen ai',\n",
        " 'Slice of life',\n",
        " 'Smut',\n",
        " 'Sports',\n",
        " 'Supernatural',\n",
        " 'Tragedy',\n",
        " 'Webtoons',\n",
        " 'Yaoi',\n",
        " 'Yuri']  # Update as needed"
      ]
    },
    {
      "cell_type": "code",
      "execution_count": 6,
      "metadata": {},
      "outputs": [],
      "source": [
        "async def fetch_manga(server='MANGANELO', genre=\"\", page=1):\n",
        "    async with httpx.AsyncClient() as client:\n",
        "        response = await client.get(f'{BASE_URL}/api/manga', params={'server': server, 'genre': genre, 'page': page})\n",
        "        return response.json()['mangas']"
      ]
    },
    {
      "cell_type": "code",
      "execution_count": 8,
      "metadata": {},
      "outputs": [],
      "source": [
        "# Function to fetch manga details\n",
        "async def fetch_manga_details(manga_id, server='MANGANELO'):\n",
        "    async with httpx.AsyncClient() as client:\n",
        "        response = await client.get(f'{BASE_URL}/api/manga/{manga_id}', params={'server': server})\n",
        "        if response.status_code == 200:\n",
        "            try:\n",
        "                return response.json()\n",
        "            except ValueError:\n",
        "                print(f\"Error decoding JSON from response for manga ID {manga_id}\")\n",
        "                return None  # Or an appropriate default value/structure\n",
        "        else:\n",
        "            print(f\"Failed to fetch details for manga ID {manga_id}. Status code: {response.status_code}\")\n",
        "            return None  # Or an appropriate default value/structure"
      ]
    },
    {
      "cell_type": "code",
      "execution_count": 9,
      "metadata": {},
      "outputs": [],
      "source": [
        "async def main():\n",
        "    for genre in GENRES:\n",
        "        for page in range(1, 50):  # Adjust page range as needed\n",
        "            try:\n",
        "                current_mangas = await fetch_manga(genre=genre, page=page)\n",
        "                if not current_mangas:\n",
        "                    break\n",
        "                for manga in current_mangas:\n",
        "                    manga_details = await fetch_manga_details(manga['id'])\n",
        "                    if manga_details:\n",
        "                        manga['authors'] = '|'.join(str(x) for x in manga_details.get('authors', []))\n",
        "                        manga['genres'] = '|'.join(str(x) for x in manga_details.get('genres', []))\n",
        "                        manga['lastUpdated'] = manga_details['lastUpdated']\n",
        "                        manga['views'] = manga_details['views']\n",
        "                        mangas.append(manga)\n",
        "                    else:\n",
        "                        # manga_details is None, handle the error\n",
        "                        print(f\"Details for manga ID {manga['id']} could not be fetched or processed.\")\n",
        "\n",
        "            except ValueError:\n",
        "                continue\n",
        "\n",
        "            \n",
        "\n",
        "\n",
        "    print('mangas[] has been created.')"
      ]
    },
    {
      "cell_type": "code",
      "execution_count": 10,
      "metadata": {
        "id": "yLD8vsMB7sGh"
      },
      "outputs": [
        {
          "name": "stderr",
          "output_type": "stream",
          "text": [
            "/usr/local/lib/python3.11/site-packages/tqdm/auto.py:21: TqdmWarning: IProgress not found. Please update jupyter and ipywidgets. See https://ipywidgets.readthedocs.io/en/stable/user_install.html\n",
            "  from .autonotebook import tqdm as notebook_tqdm\n"
          ]
        }
      ],
      "source": [
        "import numpy as np\n",
        "import pandas as pd\n",
        "import lancedb"
      ]
    },
    {
      "cell_type": "code",
      "execution_count": 11,
      "metadata": {},
      "outputs": [
        {
          "ename": "CancelledError",
          "evalue": "",
          "output_type": "error",
          "traceback": [
            "\u001b[0;31m---------------------------------------------------------------------------\u001b[0m",
            "\u001b[0;31mCancelledError\u001b[0m                            Traceback (most recent call last)",
            "Cell \u001b[0;32mIn[11], line 2\u001b[0m\n\u001b[1;32m      1\u001b[0m mangas \u001b[38;5;241m=\u001b[39m []\n\u001b[0;32m----> 2\u001b[0m \u001b[38;5;28;01mawait\u001b[39;00m main()\n",
            "Cell \u001b[0;32mIn[9], line 9\u001b[0m, in \u001b[0;36mmain\u001b[0;34m()\u001b[0m\n\u001b[1;32m      7\u001b[0m     \u001b[38;5;28;01mbreak\u001b[39;00m\n\u001b[1;32m      8\u001b[0m \u001b[38;5;28;01mfor\u001b[39;00m manga \u001b[38;5;129;01min\u001b[39;00m current_mangas:\n\u001b[0;32m----> 9\u001b[0m     manga_details \u001b[38;5;241m=\u001b[39m \u001b[38;5;28;01mawait\u001b[39;00m fetch_manga_details(manga[\u001b[38;5;124m'\u001b[39m\u001b[38;5;124mid\u001b[39m\u001b[38;5;124m'\u001b[39m])\n\u001b[1;32m     10\u001b[0m     \u001b[38;5;28;01mif\u001b[39;00m manga_details:\n\u001b[1;32m     11\u001b[0m         manga[\u001b[38;5;124m'\u001b[39m\u001b[38;5;124mauthors\u001b[39m\u001b[38;5;124m'\u001b[39m] \u001b[38;5;241m=\u001b[39m \u001b[38;5;124m'\u001b[39m\u001b[38;5;124m|\u001b[39m\u001b[38;5;124m'\u001b[39m\u001b[38;5;241m.\u001b[39mjoin(\u001b[38;5;28mstr\u001b[39m(x) \u001b[38;5;28;01mfor\u001b[39;00m x \u001b[38;5;129;01min\u001b[39;00m manga_details\u001b[38;5;241m.\u001b[39mget(\u001b[38;5;124m'\u001b[39m\u001b[38;5;124mauthors\u001b[39m\u001b[38;5;124m'\u001b[39m, []))\n",
            "Cell \u001b[0;32mIn[8], line 4\u001b[0m, in \u001b[0;36mfetch_manga_details\u001b[0;34m(manga_id, server)\u001b[0m\n\u001b[1;32m      2\u001b[0m \u001b[38;5;28;01masync\u001b[39;00m \u001b[38;5;28;01mdef\u001b[39;00m \u001b[38;5;21mfetch_manga_details\u001b[39m(manga_id, server\u001b[38;5;241m=\u001b[39m\u001b[38;5;124m'\u001b[39m\u001b[38;5;124mMANGANELO\u001b[39m\u001b[38;5;124m'\u001b[39m):\n\u001b[1;32m      3\u001b[0m     \u001b[38;5;28;01masync\u001b[39;00m \u001b[38;5;28;01mwith\u001b[39;00m httpx\u001b[38;5;241m.\u001b[39mAsyncClient() \u001b[38;5;28;01mas\u001b[39;00m client:\n\u001b[0;32m----> 4\u001b[0m         response \u001b[38;5;241m=\u001b[39m \u001b[38;5;28;01mawait\u001b[39;00m client\u001b[38;5;241m.\u001b[39mget(\u001b[38;5;124mf\u001b[39m\u001b[38;5;124m'\u001b[39m\u001b[38;5;132;01m{\u001b[39;00mBASE_URL\u001b[38;5;132;01m}\u001b[39;00m\u001b[38;5;124m/api/manga/\u001b[39m\u001b[38;5;132;01m{\u001b[39;00mmanga_id\u001b[38;5;132;01m}\u001b[39;00m\u001b[38;5;124m'\u001b[39m, params\u001b[38;5;241m=\u001b[39m{\u001b[38;5;124m'\u001b[39m\u001b[38;5;124mserver\u001b[39m\u001b[38;5;124m'\u001b[39m: server})\n\u001b[1;32m      5\u001b[0m         \u001b[38;5;28;01mif\u001b[39;00m response\u001b[38;5;241m.\u001b[39mstatus_code \u001b[38;5;241m==\u001b[39m \u001b[38;5;241m200\u001b[39m:\n\u001b[1;32m      6\u001b[0m             \u001b[38;5;28;01mtry\u001b[39;00m:\n",
            "File \u001b[0;32m/usr/local/lib/python3.11/site-packages/httpx/_client.py:1801\u001b[0m, in \u001b[0;36mAsyncClient.get\u001b[0;34m(self, url, params, headers, cookies, auth, follow_redirects, timeout, extensions)\u001b[0m\n\u001b[1;32m   1784\u001b[0m \u001b[38;5;28;01masync\u001b[39;00m \u001b[38;5;28;01mdef\u001b[39;00m \u001b[38;5;21mget\u001b[39m(\n\u001b[1;32m   1785\u001b[0m     \u001b[38;5;28mself\u001b[39m,\n\u001b[1;32m   1786\u001b[0m     url: URLTypes,\n\u001b[0;32m   (...)\u001b[0m\n\u001b[1;32m   1794\u001b[0m     extensions: RequestExtensions \u001b[38;5;241m|\u001b[39m \u001b[38;5;28;01mNone\u001b[39;00m \u001b[38;5;241m=\u001b[39m \u001b[38;5;28;01mNone\u001b[39;00m,\n\u001b[1;32m   1795\u001b[0m ) \u001b[38;5;241m-\u001b[39m\u001b[38;5;241m>\u001b[39m Response:\n\u001b[1;32m   1796\u001b[0m \u001b[38;5;250m    \u001b[39m\u001b[38;5;124;03m\"\"\"\u001b[39;00m\n\u001b[1;32m   1797\u001b[0m \u001b[38;5;124;03m    Send a `GET` request.\u001b[39;00m\n\u001b[1;32m   1798\u001b[0m \n\u001b[1;32m   1799\u001b[0m \u001b[38;5;124;03m    **Parameters**: See `httpx.request`.\u001b[39;00m\n\u001b[1;32m   1800\u001b[0m \u001b[38;5;124;03m    \"\"\"\u001b[39;00m\n\u001b[0;32m-> 1801\u001b[0m     \u001b[38;5;28;01mreturn\u001b[39;00m \u001b[38;5;28;01mawait\u001b[39;00m \u001b[38;5;28mself\u001b[39m\u001b[38;5;241m.\u001b[39mrequest(\n\u001b[1;32m   1802\u001b[0m         \u001b[38;5;124m\"\u001b[39m\u001b[38;5;124mGET\u001b[39m\u001b[38;5;124m\"\u001b[39m,\n\u001b[1;32m   1803\u001b[0m         url,\n\u001b[1;32m   1804\u001b[0m         params\u001b[38;5;241m=\u001b[39mparams,\n\u001b[1;32m   1805\u001b[0m         headers\u001b[38;5;241m=\u001b[39mheaders,\n\u001b[1;32m   1806\u001b[0m         cookies\u001b[38;5;241m=\u001b[39mcookies,\n\u001b[1;32m   1807\u001b[0m         auth\u001b[38;5;241m=\u001b[39mauth,\n\u001b[1;32m   1808\u001b[0m         follow_redirects\u001b[38;5;241m=\u001b[39mfollow_redirects,\n\u001b[1;32m   1809\u001b[0m         timeout\u001b[38;5;241m=\u001b[39mtimeout,\n\u001b[1;32m   1810\u001b[0m         extensions\u001b[38;5;241m=\u001b[39mextensions,\n\u001b[1;32m   1811\u001b[0m     )\n",
            "File \u001b[0;32m/usr/local/lib/python3.11/site-packages/httpx/_client.py:1574\u001b[0m, in \u001b[0;36mAsyncClient.request\u001b[0;34m(self, method, url, content, data, files, json, params, headers, cookies, auth, follow_redirects, timeout, extensions)\u001b[0m\n\u001b[1;32m   1559\u001b[0m     warnings\u001b[38;5;241m.\u001b[39mwarn(message, \u001b[38;5;167;01mDeprecationWarning\u001b[39;00m)\n\u001b[1;32m   1561\u001b[0m request \u001b[38;5;241m=\u001b[39m \u001b[38;5;28mself\u001b[39m\u001b[38;5;241m.\u001b[39mbuild_request(\n\u001b[1;32m   1562\u001b[0m     method\u001b[38;5;241m=\u001b[39mmethod,\n\u001b[1;32m   1563\u001b[0m     url\u001b[38;5;241m=\u001b[39murl,\n\u001b[0;32m   (...)\u001b[0m\n\u001b[1;32m   1572\u001b[0m     extensions\u001b[38;5;241m=\u001b[39mextensions,\n\u001b[1;32m   1573\u001b[0m )\n\u001b[0;32m-> 1574\u001b[0m \u001b[38;5;28;01mreturn\u001b[39;00m \u001b[38;5;28;01mawait\u001b[39;00m \u001b[38;5;28mself\u001b[39m\u001b[38;5;241m.\u001b[39msend(request, auth\u001b[38;5;241m=\u001b[39mauth, follow_redirects\u001b[38;5;241m=\u001b[39mfollow_redirects)\n",
            "File \u001b[0;32m/usr/local/lib/python3.11/site-packages/httpx/_client.py:1661\u001b[0m, in \u001b[0;36mAsyncClient.send\u001b[0;34m(self, request, stream, auth, follow_redirects)\u001b[0m\n\u001b[1;32m   1653\u001b[0m follow_redirects \u001b[38;5;241m=\u001b[39m (\n\u001b[1;32m   1654\u001b[0m     \u001b[38;5;28mself\u001b[39m\u001b[38;5;241m.\u001b[39mfollow_redirects\n\u001b[1;32m   1655\u001b[0m     \u001b[38;5;28;01mif\u001b[39;00m \u001b[38;5;28misinstance\u001b[39m(follow_redirects, UseClientDefault)\n\u001b[1;32m   1656\u001b[0m     \u001b[38;5;28;01melse\u001b[39;00m follow_redirects\n\u001b[1;32m   1657\u001b[0m )\n\u001b[1;32m   1659\u001b[0m auth \u001b[38;5;241m=\u001b[39m \u001b[38;5;28mself\u001b[39m\u001b[38;5;241m.\u001b[39m_build_request_auth(request, auth)\n\u001b[0;32m-> 1661\u001b[0m response \u001b[38;5;241m=\u001b[39m \u001b[38;5;28;01mawait\u001b[39;00m \u001b[38;5;28mself\u001b[39m\u001b[38;5;241m.\u001b[39m_send_handling_auth(\n\u001b[1;32m   1662\u001b[0m     request,\n\u001b[1;32m   1663\u001b[0m     auth\u001b[38;5;241m=\u001b[39mauth,\n\u001b[1;32m   1664\u001b[0m     follow_redirects\u001b[38;5;241m=\u001b[39mfollow_redirects,\n\u001b[1;32m   1665\u001b[0m     history\u001b[38;5;241m=\u001b[39m[],\n\u001b[1;32m   1666\u001b[0m )\n\u001b[1;32m   1667\u001b[0m \u001b[38;5;28;01mtry\u001b[39;00m:\n\u001b[1;32m   1668\u001b[0m     \u001b[38;5;28;01mif\u001b[39;00m \u001b[38;5;129;01mnot\u001b[39;00m stream:\n",
            "File \u001b[0;32m/usr/local/lib/python3.11/site-packages/httpx/_client.py:1689\u001b[0m, in \u001b[0;36mAsyncClient._send_handling_auth\u001b[0;34m(self, request, auth, follow_redirects, history)\u001b[0m\n\u001b[1;32m   1686\u001b[0m request \u001b[38;5;241m=\u001b[39m \u001b[38;5;28;01mawait\u001b[39;00m auth_flow\u001b[38;5;241m.\u001b[39m\u001b[38;5;21m__anext__\u001b[39m()\n\u001b[1;32m   1688\u001b[0m \u001b[38;5;28;01mwhile\u001b[39;00m \u001b[38;5;28;01mTrue\u001b[39;00m:\n\u001b[0;32m-> 1689\u001b[0m     response \u001b[38;5;241m=\u001b[39m \u001b[38;5;28;01mawait\u001b[39;00m \u001b[38;5;28mself\u001b[39m\u001b[38;5;241m.\u001b[39m_send_handling_redirects(\n\u001b[1;32m   1690\u001b[0m         request,\n\u001b[1;32m   1691\u001b[0m         follow_redirects\u001b[38;5;241m=\u001b[39mfollow_redirects,\n\u001b[1;32m   1692\u001b[0m         history\u001b[38;5;241m=\u001b[39mhistory,\n\u001b[1;32m   1693\u001b[0m     )\n\u001b[1;32m   1694\u001b[0m     \u001b[38;5;28;01mtry\u001b[39;00m:\n\u001b[1;32m   1695\u001b[0m         \u001b[38;5;28;01mtry\u001b[39;00m:\n",
            "File \u001b[0;32m/usr/local/lib/python3.11/site-packages/httpx/_client.py:1726\u001b[0m, in \u001b[0;36mAsyncClient._send_handling_redirects\u001b[0;34m(self, request, follow_redirects, history)\u001b[0m\n\u001b[1;32m   1723\u001b[0m \u001b[38;5;28;01mfor\u001b[39;00m hook \u001b[38;5;129;01min\u001b[39;00m \u001b[38;5;28mself\u001b[39m\u001b[38;5;241m.\u001b[39m_event_hooks[\u001b[38;5;124m\"\u001b[39m\u001b[38;5;124mrequest\u001b[39m\u001b[38;5;124m\"\u001b[39m]:\n\u001b[1;32m   1724\u001b[0m     \u001b[38;5;28;01mawait\u001b[39;00m hook(request)\n\u001b[0;32m-> 1726\u001b[0m response \u001b[38;5;241m=\u001b[39m \u001b[38;5;28;01mawait\u001b[39;00m \u001b[38;5;28mself\u001b[39m\u001b[38;5;241m.\u001b[39m_send_single_request(request)\n\u001b[1;32m   1727\u001b[0m \u001b[38;5;28;01mtry\u001b[39;00m:\n\u001b[1;32m   1728\u001b[0m     \u001b[38;5;28;01mfor\u001b[39;00m hook \u001b[38;5;129;01min\u001b[39;00m \u001b[38;5;28mself\u001b[39m\u001b[38;5;241m.\u001b[39m_event_hooks[\u001b[38;5;124m\"\u001b[39m\u001b[38;5;124mresponse\u001b[39m\u001b[38;5;124m\"\u001b[39m]:\n",
            "File \u001b[0;32m/usr/local/lib/python3.11/site-packages/httpx/_client.py:1763\u001b[0m, in \u001b[0;36mAsyncClient._send_single_request\u001b[0;34m(self, request)\u001b[0m\n\u001b[1;32m   1758\u001b[0m     \u001b[38;5;28;01mraise\u001b[39;00m \u001b[38;5;167;01mRuntimeError\u001b[39;00m(\n\u001b[1;32m   1759\u001b[0m         \u001b[38;5;124m\"\u001b[39m\u001b[38;5;124mAttempted to send an sync request with an AsyncClient instance.\u001b[39m\u001b[38;5;124m\"\u001b[39m\n\u001b[1;32m   1760\u001b[0m     )\n\u001b[1;32m   1762\u001b[0m \u001b[38;5;28;01mwith\u001b[39;00m request_context(request\u001b[38;5;241m=\u001b[39mrequest):\n\u001b[0;32m-> 1763\u001b[0m     response \u001b[38;5;241m=\u001b[39m \u001b[38;5;28;01mawait\u001b[39;00m transport\u001b[38;5;241m.\u001b[39mhandle_async_request(request)\n\u001b[1;32m   1765\u001b[0m \u001b[38;5;28;01massert\u001b[39;00m \u001b[38;5;28misinstance\u001b[39m(response\u001b[38;5;241m.\u001b[39mstream, AsyncByteStream)\n\u001b[1;32m   1766\u001b[0m response\u001b[38;5;241m.\u001b[39mrequest \u001b[38;5;241m=\u001b[39m request\n",
            "File \u001b[0;32m/usr/local/lib/python3.11/site-packages/httpx/_transports/default.py:373\u001b[0m, in \u001b[0;36mAsyncHTTPTransport.handle_async_request\u001b[0;34m(self, request)\u001b[0m\n\u001b[1;32m    360\u001b[0m req \u001b[38;5;241m=\u001b[39m httpcore\u001b[38;5;241m.\u001b[39mRequest(\n\u001b[1;32m    361\u001b[0m     method\u001b[38;5;241m=\u001b[39mrequest\u001b[38;5;241m.\u001b[39mmethod,\n\u001b[1;32m    362\u001b[0m     url\u001b[38;5;241m=\u001b[39mhttpcore\u001b[38;5;241m.\u001b[39mURL(\n\u001b[0;32m   (...)\u001b[0m\n\u001b[1;32m    370\u001b[0m     extensions\u001b[38;5;241m=\u001b[39mrequest\u001b[38;5;241m.\u001b[39mextensions,\n\u001b[1;32m    371\u001b[0m )\n\u001b[1;32m    372\u001b[0m \u001b[38;5;28;01mwith\u001b[39;00m map_httpcore_exceptions():\n\u001b[0;32m--> 373\u001b[0m     resp \u001b[38;5;241m=\u001b[39m \u001b[38;5;28;01mawait\u001b[39;00m \u001b[38;5;28mself\u001b[39m\u001b[38;5;241m.\u001b[39m_pool\u001b[38;5;241m.\u001b[39mhandle_async_request(req)\n\u001b[1;32m    375\u001b[0m \u001b[38;5;28;01massert\u001b[39;00m \u001b[38;5;28misinstance\u001b[39m(resp\u001b[38;5;241m.\u001b[39mstream, typing\u001b[38;5;241m.\u001b[39mAsyncIterable)\n\u001b[1;32m    377\u001b[0m \u001b[38;5;28;01mreturn\u001b[39;00m Response(\n\u001b[1;32m    378\u001b[0m     status_code\u001b[38;5;241m=\u001b[39mresp\u001b[38;5;241m.\u001b[39mstatus,\n\u001b[1;32m    379\u001b[0m     headers\u001b[38;5;241m=\u001b[39mresp\u001b[38;5;241m.\u001b[39mheaders,\n\u001b[1;32m    380\u001b[0m     stream\u001b[38;5;241m=\u001b[39mAsyncResponseStream(resp\u001b[38;5;241m.\u001b[39mstream),\n\u001b[1;32m    381\u001b[0m     extensions\u001b[38;5;241m=\u001b[39mresp\u001b[38;5;241m.\u001b[39mextensions,\n\u001b[1;32m    382\u001b[0m )\n",
            "File \u001b[0;32m/usr/local/lib/python3.11/site-packages/httpcore/_async/connection_pool.py:216\u001b[0m, in \u001b[0;36mAsyncConnectionPool.handle_async_request\u001b[0;34m(self, request)\u001b[0m\n\u001b[1;32m    213\u001b[0m         closing \u001b[38;5;241m=\u001b[39m \u001b[38;5;28mself\u001b[39m\u001b[38;5;241m.\u001b[39m_assign_requests_to_connections()\n\u001b[1;32m    215\u001b[0m     \u001b[38;5;28;01mawait\u001b[39;00m \u001b[38;5;28mself\u001b[39m\u001b[38;5;241m.\u001b[39m_close_connections(closing)\n\u001b[0;32m--> 216\u001b[0m     \u001b[38;5;28;01mraise\u001b[39;00m exc \u001b[38;5;28;01mfrom\u001b[39;00m \u001b[38;5;28;01mNone\u001b[39;00m\n\u001b[1;32m    218\u001b[0m \u001b[38;5;66;03m# Return the response. Note that in this case we still have to manage\u001b[39;00m\n\u001b[1;32m    219\u001b[0m \u001b[38;5;66;03m# the point at which the response is closed.\u001b[39;00m\n\u001b[1;32m    220\u001b[0m \u001b[38;5;28;01massert\u001b[39;00m \u001b[38;5;28misinstance\u001b[39m(response\u001b[38;5;241m.\u001b[39mstream, AsyncIterable)\n",
            "File \u001b[0;32m/usr/local/lib/python3.11/site-packages/httpcore/_async/connection_pool.py:196\u001b[0m, in \u001b[0;36mAsyncConnectionPool.handle_async_request\u001b[0;34m(self, request)\u001b[0m\n\u001b[1;32m    192\u001b[0m connection \u001b[38;5;241m=\u001b[39m \u001b[38;5;28;01mawait\u001b[39;00m pool_request\u001b[38;5;241m.\u001b[39mwait_for_connection(timeout\u001b[38;5;241m=\u001b[39mtimeout)\n\u001b[1;32m    194\u001b[0m \u001b[38;5;28;01mtry\u001b[39;00m:\n\u001b[1;32m    195\u001b[0m     \u001b[38;5;66;03m# Send the request on the assigned connection.\u001b[39;00m\n\u001b[0;32m--> 196\u001b[0m     response \u001b[38;5;241m=\u001b[39m \u001b[38;5;28;01mawait\u001b[39;00m connection\u001b[38;5;241m.\u001b[39mhandle_async_request(\n\u001b[1;32m    197\u001b[0m         pool_request\u001b[38;5;241m.\u001b[39mrequest\n\u001b[1;32m    198\u001b[0m     )\n\u001b[1;32m    199\u001b[0m \u001b[38;5;28;01mexcept\u001b[39;00m ConnectionNotAvailable:\n\u001b[1;32m    200\u001b[0m     \u001b[38;5;66;03m# In some cases a connection may initially be available to\u001b[39;00m\n\u001b[1;32m    201\u001b[0m     \u001b[38;5;66;03m# handle a request, but then become unavailable.\u001b[39;00m\n\u001b[1;32m    202\u001b[0m     \u001b[38;5;66;03m#\u001b[39;00m\n\u001b[1;32m    203\u001b[0m     \u001b[38;5;66;03m# In this case we clear the connection and try again.\u001b[39;00m\n\u001b[1;32m    204\u001b[0m     pool_request\u001b[38;5;241m.\u001b[39mclear_connection()\n",
            "File \u001b[0;32m/usr/local/lib/python3.11/site-packages/httpcore/_async/connection.py:101\u001b[0m, in \u001b[0;36mAsyncHTTPConnection.handle_async_request\u001b[0;34m(self, request)\u001b[0m\n\u001b[1;32m     98\u001b[0m     \u001b[38;5;28mself\u001b[39m\u001b[38;5;241m.\u001b[39m_connect_failed \u001b[38;5;241m=\u001b[39m \u001b[38;5;28;01mTrue\u001b[39;00m\n\u001b[1;32m     99\u001b[0m     \u001b[38;5;28;01mraise\u001b[39;00m exc\n\u001b[0;32m--> 101\u001b[0m \u001b[38;5;28;01mreturn\u001b[39;00m \u001b[38;5;28;01mawait\u001b[39;00m \u001b[38;5;28mself\u001b[39m\u001b[38;5;241m.\u001b[39m_connection\u001b[38;5;241m.\u001b[39mhandle_async_request(request)\n",
            "File \u001b[0;32m/usr/local/lib/python3.11/site-packages/httpcore/_async/http11.py:143\u001b[0m, in \u001b[0;36mAsyncHTTP11Connection.handle_async_request\u001b[0;34m(self, request)\u001b[0m\n\u001b[1;32m    141\u001b[0m     \u001b[38;5;28;01masync\u001b[39;00m \u001b[38;5;28;01mwith\u001b[39;00m Trace(\u001b[38;5;124m\"\u001b[39m\u001b[38;5;124mresponse_closed\u001b[39m\u001b[38;5;124m\"\u001b[39m, logger, request) \u001b[38;5;28;01mas\u001b[39;00m trace:\n\u001b[1;32m    142\u001b[0m         \u001b[38;5;28;01mawait\u001b[39;00m \u001b[38;5;28mself\u001b[39m\u001b[38;5;241m.\u001b[39m_response_closed()\n\u001b[0;32m--> 143\u001b[0m \u001b[38;5;28;01mraise\u001b[39;00m exc\n",
            "File \u001b[0;32m/usr/local/lib/python3.11/site-packages/httpcore/_async/http11.py:113\u001b[0m, in \u001b[0;36mAsyncHTTP11Connection.handle_async_request\u001b[0;34m(self, request)\u001b[0m\n\u001b[1;32m    102\u001b[0m     \u001b[38;5;28;01mpass\u001b[39;00m\n\u001b[1;32m    104\u001b[0m \u001b[38;5;28;01masync\u001b[39;00m \u001b[38;5;28;01mwith\u001b[39;00m Trace(\n\u001b[1;32m    105\u001b[0m     \u001b[38;5;124m\"\u001b[39m\u001b[38;5;124mreceive_response_headers\u001b[39m\u001b[38;5;124m\"\u001b[39m, logger, request, kwargs\n\u001b[1;32m    106\u001b[0m ) \u001b[38;5;28;01mas\u001b[39;00m trace:\n\u001b[1;32m    107\u001b[0m     (\n\u001b[1;32m    108\u001b[0m         http_version,\n\u001b[1;32m    109\u001b[0m         status,\n\u001b[1;32m    110\u001b[0m         reason_phrase,\n\u001b[1;32m    111\u001b[0m         headers,\n\u001b[1;32m    112\u001b[0m         trailing_data,\n\u001b[0;32m--> 113\u001b[0m     ) \u001b[38;5;241m=\u001b[39m \u001b[38;5;28;01mawait\u001b[39;00m \u001b[38;5;28mself\u001b[39m\u001b[38;5;241m.\u001b[39m_receive_response_headers(\u001b[38;5;241m*\u001b[39m\u001b[38;5;241m*\u001b[39mkwargs)\n\u001b[1;32m    114\u001b[0m     trace\u001b[38;5;241m.\u001b[39mreturn_value \u001b[38;5;241m=\u001b[39m (\n\u001b[1;32m    115\u001b[0m         http_version,\n\u001b[1;32m    116\u001b[0m         status,\n\u001b[1;32m    117\u001b[0m         reason_phrase,\n\u001b[1;32m    118\u001b[0m         headers,\n\u001b[1;32m    119\u001b[0m     )\n\u001b[1;32m    121\u001b[0m network_stream \u001b[38;5;241m=\u001b[39m \u001b[38;5;28mself\u001b[39m\u001b[38;5;241m.\u001b[39m_network_stream\n",
            "File \u001b[0;32m/usr/local/lib/python3.11/site-packages/httpcore/_async/http11.py:186\u001b[0m, in \u001b[0;36mAsyncHTTP11Connection._receive_response_headers\u001b[0;34m(self, request)\u001b[0m\n\u001b[1;32m    183\u001b[0m timeout \u001b[38;5;241m=\u001b[39m timeouts\u001b[38;5;241m.\u001b[39mget(\u001b[38;5;124m\"\u001b[39m\u001b[38;5;124mread\u001b[39m\u001b[38;5;124m\"\u001b[39m, \u001b[38;5;28;01mNone\u001b[39;00m)\n\u001b[1;32m    185\u001b[0m \u001b[38;5;28;01mwhile\u001b[39;00m \u001b[38;5;28;01mTrue\u001b[39;00m:\n\u001b[0;32m--> 186\u001b[0m     event \u001b[38;5;241m=\u001b[39m \u001b[38;5;28;01mawait\u001b[39;00m \u001b[38;5;28mself\u001b[39m\u001b[38;5;241m.\u001b[39m_receive_event(timeout\u001b[38;5;241m=\u001b[39mtimeout)\n\u001b[1;32m    187\u001b[0m     \u001b[38;5;28;01mif\u001b[39;00m \u001b[38;5;28misinstance\u001b[39m(event, h11\u001b[38;5;241m.\u001b[39mResponse):\n\u001b[1;32m    188\u001b[0m         \u001b[38;5;28;01mbreak\u001b[39;00m\n",
            "File \u001b[0;32m/usr/local/lib/python3.11/site-packages/httpcore/_async/http11.py:224\u001b[0m, in \u001b[0;36mAsyncHTTP11Connection._receive_event\u001b[0;34m(self, timeout)\u001b[0m\n\u001b[1;32m    221\u001b[0m     event \u001b[38;5;241m=\u001b[39m \u001b[38;5;28mself\u001b[39m\u001b[38;5;241m.\u001b[39m_h11_state\u001b[38;5;241m.\u001b[39mnext_event()\n\u001b[1;32m    223\u001b[0m \u001b[38;5;28;01mif\u001b[39;00m event \u001b[38;5;129;01mis\u001b[39;00m h11\u001b[38;5;241m.\u001b[39mNEED_DATA:\n\u001b[0;32m--> 224\u001b[0m     data \u001b[38;5;241m=\u001b[39m \u001b[38;5;28;01mawait\u001b[39;00m \u001b[38;5;28mself\u001b[39m\u001b[38;5;241m.\u001b[39m_network_stream\u001b[38;5;241m.\u001b[39mread(\n\u001b[1;32m    225\u001b[0m         \u001b[38;5;28mself\u001b[39m\u001b[38;5;241m.\u001b[39mREAD_NUM_BYTES, timeout\u001b[38;5;241m=\u001b[39mtimeout\n\u001b[1;32m    226\u001b[0m     )\n\u001b[1;32m    228\u001b[0m     \u001b[38;5;66;03m# If we feed this case through h11 we'll raise an exception like:\u001b[39;00m\n\u001b[1;32m    229\u001b[0m     \u001b[38;5;66;03m#\u001b[39;00m\n\u001b[1;32m    230\u001b[0m     \u001b[38;5;66;03m#     httpcore.RemoteProtocolError: can't handle event type\u001b[39;00m\n\u001b[0;32m   (...)\u001b[0m\n\u001b[1;32m    234\u001b[0m     \u001b[38;5;66;03m# perspective. Instead we handle this case distinctly and treat\u001b[39;00m\n\u001b[1;32m    235\u001b[0m     \u001b[38;5;66;03m# it as a ConnectError.\u001b[39;00m\n\u001b[1;32m    236\u001b[0m     \u001b[38;5;28;01mif\u001b[39;00m data \u001b[38;5;241m==\u001b[39m \u001b[38;5;124mb\u001b[39m\u001b[38;5;124m\"\u001b[39m\u001b[38;5;124m\"\u001b[39m \u001b[38;5;129;01mand\u001b[39;00m \u001b[38;5;28mself\u001b[39m\u001b[38;5;241m.\u001b[39m_h11_state\u001b[38;5;241m.\u001b[39mtheir_state \u001b[38;5;241m==\u001b[39m h11\u001b[38;5;241m.\u001b[39mSEND_RESPONSE:\n",
            "File \u001b[0;32m/usr/local/lib/python3.11/site-packages/httpcore/_backends/anyio.py:35\u001b[0m, in \u001b[0;36mAnyIOStream.read\u001b[0;34m(self, max_bytes, timeout)\u001b[0m\n\u001b[1;32m     33\u001b[0m \u001b[38;5;28;01mwith\u001b[39;00m anyio\u001b[38;5;241m.\u001b[39mfail_after(timeout):\n\u001b[1;32m     34\u001b[0m     \u001b[38;5;28;01mtry\u001b[39;00m:\n\u001b[0;32m---> 35\u001b[0m         \u001b[38;5;28;01mreturn\u001b[39;00m \u001b[38;5;28;01mawait\u001b[39;00m \u001b[38;5;28mself\u001b[39m\u001b[38;5;241m.\u001b[39m_stream\u001b[38;5;241m.\u001b[39mreceive(max_bytes\u001b[38;5;241m=\u001b[39mmax_bytes)\n\u001b[1;32m     36\u001b[0m     \u001b[38;5;28;01mexcept\u001b[39;00m anyio\u001b[38;5;241m.\u001b[39mEndOfStream:  \u001b[38;5;66;03m# pragma: nocover\u001b[39;00m\n\u001b[1;32m     37\u001b[0m         \u001b[38;5;28;01mreturn\u001b[39;00m \u001b[38;5;124mb\u001b[39m\u001b[38;5;124m\"\u001b[39m\u001b[38;5;124m\"\u001b[39m\n",
            "File \u001b[0;32m/usr/local/lib/python3.11/site-packages/anyio/streams/tls.py:205\u001b[0m, in \u001b[0;36mTLSStream.receive\u001b[0;34m(self, max_bytes)\u001b[0m\n\u001b[1;32m    204\u001b[0m \u001b[38;5;28;01masync\u001b[39;00m \u001b[38;5;28;01mdef\u001b[39;00m \u001b[38;5;21mreceive\u001b[39m(\u001b[38;5;28mself\u001b[39m, max_bytes: \u001b[38;5;28mint\u001b[39m \u001b[38;5;241m=\u001b[39m \u001b[38;5;241m65536\u001b[39m) \u001b[38;5;241m-\u001b[39m\u001b[38;5;241m>\u001b[39m \u001b[38;5;28mbytes\u001b[39m:\n\u001b[0;32m--> 205\u001b[0m     data \u001b[38;5;241m=\u001b[39m \u001b[38;5;28;01mawait\u001b[39;00m \u001b[38;5;28mself\u001b[39m\u001b[38;5;241m.\u001b[39m_call_sslobject_method(\u001b[38;5;28mself\u001b[39m\u001b[38;5;241m.\u001b[39m_ssl_object\u001b[38;5;241m.\u001b[39mread, max_bytes)\n\u001b[1;32m    206\u001b[0m     \u001b[38;5;28;01mif\u001b[39;00m \u001b[38;5;129;01mnot\u001b[39;00m data:\n\u001b[1;32m    207\u001b[0m         \u001b[38;5;28;01mraise\u001b[39;00m EndOfStream\n",
            "File \u001b[0;32m/usr/local/lib/python3.11/site-packages/anyio/streams/tls.py:147\u001b[0m, in \u001b[0;36mTLSStream._call_sslobject_method\u001b[0;34m(self, func, *args)\u001b[0m\n\u001b[1;32m    144\u001b[0m     \u001b[38;5;28;01mif\u001b[39;00m \u001b[38;5;28mself\u001b[39m\u001b[38;5;241m.\u001b[39m_write_bio\u001b[38;5;241m.\u001b[39mpending:\n\u001b[1;32m    145\u001b[0m         \u001b[38;5;28;01mawait\u001b[39;00m \u001b[38;5;28mself\u001b[39m\u001b[38;5;241m.\u001b[39mtransport_stream\u001b[38;5;241m.\u001b[39msend(\u001b[38;5;28mself\u001b[39m\u001b[38;5;241m.\u001b[39m_write_bio\u001b[38;5;241m.\u001b[39mread())\n\u001b[0;32m--> 147\u001b[0m     data \u001b[38;5;241m=\u001b[39m \u001b[38;5;28;01mawait\u001b[39;00m \u001b[38;5;28mself\u001b[39m\u001b[38;5;241m.\u001b[39mtransport_stream\u001b[38;5;241m.\u001b[39mreceive()\n\u001b[1;32m    148\u001b[0m \u001b[38;5;28;01mexcept\u001b[39;00m EndOfStream:\n\u001b[1;32m    149\u001b[0m     \u001b[38;5;28mself\u001b[39m\u001b[38;5;241m.\u001b[39m_read_bio\u001b[38;5;241m.\u001b[39mwrite_eof()\n",
            "File \u001b[0;32m/usr/local/lib/python3.11/site-packages/anyio/_backends/_asyncio.py:1133\u001b[0m, in \u001b[0;36mSocketStream.receive\u001b[0;34m(self, max_bytes)\u001b[0m\n\u001b[1;32m   1128\u001b[0m \u001b[38;5;28;01mif\u001b[39;00m (\n\u001b[1;32m   1129\u001b[0m     \u001b[38;5;129;01mnot\u001b[39;00m \u001b[38;5;28mself\u001b[39m\u001b[38;5;241m.\u001b[39m_protocol\u001b[38;5;241m.\u001b[39mread_event\u001b[38;5;241m.\u001b[39mis_set()\n\u001b[1;32m   1130\u001b[0m     \u001b[38;5;129;01mand\u001b[39;00m \u001b[38;5;129;01mnot\u001b[39;00m \u001b[38;5;28mself\u001b[39m\u001b[38;5;241m.\u001b[39m_transport\u001b[38;5;241m.\u001b[39mis_closing()\n\u001b[1;32m   1131\u001b[0m ):\n\u001b[1;32m   1132\u001b[0m     \u001b[38;5;28mself\u001b[39m\u001b[38;5;241m.\u001b[39m_transport\u001b[38;5;241m.\u001b[39mresume_reading()\n\u001b[0;32m-> 1133\u001b[0m     \u001b[38;5;28;01mawait\u001b[39;00m \u001b[38;5;28mself\u001b[39m\u001b[38;5;241m.\u001b[39m_protocol\u001b[38;5;241m.\u001b[39mread_event\u001b[38;5;241m.\u001b[39mwait()\n\u001b[1;32m   1134\u001b[0m     \u001b[38;5;28mself\u001b[39m\u001b[38;5;241m.\u001b[39m_transport\u001b[38;5;241m.\u001b[39mpause_reading()\n\u001b[1;32m   1136\u001b[0m \u001b[38;5;28;01mtry\u001b[39;00m:\n",
            "File \u001b[0;32m/usr/local/lib/python3.11/asyncio/locks.py:213\u001b[0m, in \u001b[0;36mEvent.wait\u001b[0;34m(self)\u001b[0m\n\u001b[1;32m    211\u001b[0m \u001b[38;5;28mself\u001b[39m\u001b[38;5;241m.\u001b[39m_waiters\u001b[38;5;241m.\u001b[39mappend(fut)\n\u001b[1;32m    212\u001b[0m \u001b[38;5;28;01mtry\u001b[39;00m:\n\u001b[0;32m--> 213\u001b[0m     \u001b[38;5;28;01mawait\u001b[39;00m fut\n\u001b[1;32m    214\u001b[0m     \u001b[38;5;28;01mreturn\u001b[39;00m \u001b[38;5;28;01mTrue\u001b[39;00m\n\u001b[1;32m    215\u001b[0m \u001b[38;5;28;01mfinally\u001b[39;00m:\n",
            "\u001b[0;31mCancelledError\u001b[0m: "
          ]
        }
      ],
      "source": [
        "mangas = []\n",
        "await main()"
      ]
    },
    {
      "cell_type": "code",
      "execution_count": 12,
      "metadata": {},
      "outputs": [
        {
          "data": {
            "text/plain": [
              "[{'title': 'Rebirth Of The Immortal Venerable',\n",
              "  'img': '/mangaimage/manga-nr990726.jpg',\n",
              "  'latestChapter': 'Chapter 209',\n",
              "  'rating': '3.83',\n",
              "  'src': '/manga/manga-nr990726',\n",
              "  'id': 'manga-nr990726',\n",
              "  'titleId': 'Rebirth Of The Immortal Venerable',\n",
              "  'description': \"Rebirth of the Immortal Venerable summary is updating. Come visit MangaNato.com sometime to read the latest chapter of Rebirth of the Immortal Venerable. If you have any question about this manga, Please don't hesitate to contact us or translate team. Hope you enjoy it.\",\n",
              "  'authors': 'Daxiedao Anime',\n",
              "  'genres': 'Action|Adventure|Martial arts|Mature|Supernatural|Manhua',\n",
              "  'lastUpdated': '2023-07-10 23:12',\n",
              "  'views': 9000000.0},\n",
              " {'title': 'Target 1 Billion Points! Open The Ultimate Game Of Second Life!',\n",
              "  'img': '/mangaimage/manga-hy985133.jpg',\n",
              "  'latestChapter': 'Chapter 74',\n",
              "  'rating': '3.89',\n",
              "  'src': '/manga/manga-hy985133',\n",
              "  'id': 'manga-hy985133',\n",
              "  'titleId': 'Target 1 Billion Points! Open The Ultimate Game Of Second Life!',\n",
              "  'description': 'Xie Yu kept himself closed because of the death of his friend, immersed in the game world, until one day a mobile game called the ultimate game appeared on his mobile phone, when he learned that the game can achieve all the wishes, even the dead Can be resurrected, with 100 million points as the goal, and the second life of the dead house begins!',\n",
              "  'authors': '炽翊漫画',\n",
              "  'genres': 'Action',\n",
              "  'lastUpdated': '2022-08-21 20:55',\n",
              "  'views': 9000000.0}]"
            ]
          },
          "execution_count": 12,
          "metadata": {},
          "output_type": "execute_result"
        }
      ],
      "source": [
        "mangas[:2]"
      ]
    },
    {
      "cell_type": "code",
      "execution_count": 13,
      "metadata": {},
      "outputs": [
        {
          "data": {
            "text/html": [
              "<div>\n",
              "<style scoped>\n",
              "    .dataframe tbody tr th:only-of-type {\n",
              "        vertical-align: middle;\n",
              "    }\n",
              "\n",
              "    .dataframe tbody tr th {\n",
              "        vertical-align: top;\n",
              "    }\n",
              "\n",
              "    .dataframe thead th {\n",
              "        text-align: right;\n",
              "    }\n",
              "</style>\n",
              "<table border=\"1\" class=\"dataframe\">\n",
              "  <thead>\n",
              "    <tr style=\"text-align: right;\">\n",
              "      <th></th>\n",
              "      <th>title</th>\n",
              "      <th>img</th>\n",
              "      <th>latestChapter</th>\n",
              "      <th>rating</th>\n",
              "      <th>src</th>\n",
              "      <th>id</th>\n",
              "      <th>titleId</th>\n",
              "      <th>description</th>\n",
              "      <th>authors</th>\n",
              "      <th>genres</th>\n",
              "      <th>lastUpdated</th>\n",
              "      <th>views</th>\n",
              "    </tr>\n",
              "  </thead>\n",
              "  <tbody>\n",
              "    <tr>\n",
              "      <th>0</th>\n",
              "      <td>Rebirth Of The Immortal Venerable</td>\n",
              "      <td>/mangaimage/manga-nr990726.jpg</td>\n",
              "      <td>Chapter 209</td>\n",
              "      <td>3.83</td>\n",
              "      <td>/manga/manga-nr990726</td>\n",
              "      <td>manga-nr990726</td>\n",
              "      <td>Rebirth Of The Immortal Venerable</td>\n",
              "      <td>Rebirth of the Immortal Venerable summary is u...</td>\n",
              "      <td>Daxiedao Anime</td>\n",
              "      <td>Action|Adventure|Martial arts|Mature|Supernatu...</td>\n",
              "      <td>2023-07-10 23:12</td>\n",
              "      <td>9000000.0</td>\n",
              "    </tr>\n",
              "    <tr>\n",
              "      <th>1</th>\n",
              "      <td>Target 1 Billion Points! Open The Ultimate Gam...</td>\n",
              "      <td>/mangaimage/manga-hy985133.jpg</td>\n",
              "      <td>Chapter 74</td>\n",
              "      <td>3.89</td>\n",
              "      <td>/manga/manga-hy985133</td>\n",
              "      <td>manga-hy985133</td>\n",
              "      <td>Target 1 Billion Points! Open The Ultimate Gam...</td>\n",
              "      <td>Xie Yu kept himself closed because of the deat...</td>\n",
              "      <td>炽翊漫画</td>\n",
              "      <td>Action</td>\n",
              "      <td>2022-08-21 20:55</td>\n",
              "      <td>9000000.0</td>\n",
              "    </tr>\n",
              "    <tr>\n",
              "      <th>2</th>\n",
              "      <td>Lan Ke Qi Yuan</td>\n",
              "      <td>/mangaimage/manga-ml989594.jpg</td>\n",
              "      <td>Chapter 203</td>\n",
              "      <td>4.66</td>\n",
              "      <td>/manga/manga-ml989594</td>\n",
              "      <td>manga-ml989594</td>\n",
              "      <td>Lan Ke Qi Yuan</td>\n",
              "      <td>Lan Ke Qi Yuan is a Manga/Manhwa/Manhua in (En...</td>\n",
              "      <td>阅文漫画</td>\n",
              "      <td>Action|Adventure|Fantasy|Martial arts</td>\n",
              "      <td>2023-04-18 21:56</td>\n",
              "      <td>9000000.0</td>\n",
              "    </tr>\n",
              "    <tr>\n",
              "      <th>3</th>\n",
              "      <td>Sankarea</td>\n",
              "      <td>/mangaimage/manga-be956713.jpg</td>\n",
              "      <td>Vol.11 Chapter 56.5: Extra: Sankarea If</td>\n",
              "      <td>4.74</td>\n",
              "      <td>/manga/manga-be956713</td>\n",
              "      <td>manga-be956713</td>\n",
              "      <td>Sankarea</td>\n",
              "      <td>Chihiro Furuya is a male high-school student h...</td>\n",
              "      <td>Hattori Mitsuru</td>\n",
              "      <td>Action|Comedy|Cooking|Drama|Horror|Romance|Sho...</td>\n",
              "      <td>2019-04-14 18:25</td>\n",
              "      <td>9000000.0</td>\n",
              "    </tr>\n",
              "    <tr>\n",
              "      <th>4</th>\n",
              "      <td>Martial Streamer</td>\n",
              "      <td>/mangaimage/manga-qc993611.jpg</td>\n",
              "      <td>Chapter 41</td>\n",
              "      <td>4.68</td>\n",
              "      <td>/manga/manga-qc993611</td>\n",
              "      <td>manga-qc993611</td>\n",
              "      <td>Martial Streamer</td>\n",
              "      <td>TaeMin was a student taking a gap year, when h...</td>\n",
              "      <td>Buksam</td>\n",
              "      <td>Go Ha Som|Working Brain Please|Action|Drama|Fa...</td>\n",
              "      <td>2024-03-30 13:43</td>\n",
              "      <td>9000000.0</td>\n",
              "    </tr>\n",
              "  </tbody>\n",
              "</table>\n",
              "</div>"
            ],
            "text/plain": [
              "                                               title  \\\n",
              "0                  Rebirth Of The Immortal Venerable   \n",
              "1  Target 1 Billion Points! Open The Ultimate Gam...   \n",
              "2                                     Lan Ke Qi Yuan   \n",
              "3                                           Sankarea   \n",
              "4                                   Martial Streamer   \n",
              "\n",
              "                              img                            latestChapter  \\\n",
              "0  /mangaimage/manga-nr990726.jpg                              Chapter 209   \n",
              "1  /mangaimage/manga-hy985133.jpg                               Chapter 74   \n",
              "2  /mangaimage/manga-ml989594.jpg                              Chapter 203   \n",
              "3  /mangaimage/manga-be956713.jpg  Vol.11 Chapter 56.5: Extra: Sankarea If   \n",
              "4  /mangaimage/manga-qc993611.jpg                               Chapter 41   \n",
              "\n",
              "  rating                    src              id  \\\n",
              "0   3.83  /manga/manga-nr990726  manga-nr990726   \n",
              "1   3.89  /manga/manga-hy985133  manga-hy985133   \n",
              "2   4.66  /manga/manga-ml989594  manga-ml989594   \n",
              "3   4.74  /manga/manga-be956713  manga-be956713   \n",
              "4   4.68  /manga/manga-qc993611  manga-qc993611   \n",
              "\n",
              "                                             titleId  \\\n",
              "0                  Rebirth Of The Immortal Venerable   \n",
              "1  Target 1 Billion Points! Open The Ultimate Gam...   \n",
              "2                                     Lan Ke Qi Yuan   \n",
              "3                                           Sankarea   \n",
              "4                                   Martial Streamer   \n",
              "\n",
              "                                         description          authors  \\\n",
              "0  Rebirth of the Immortal Venerable summary is u...   Daxiedao Anime   \n",
              "1  Xie Yu kept himself closed because of the deat...             炽翊漫画   \n",
              "2  Lan Ke Qi Yuan is a Manga/Manhwa/Manhua in (En...             阅文漫画   \n",
              "3  Chihiro Furuya is a male high-school student h...  Hattori Mitsuru   \n",
              "4  TaeMin was a student taking a gap year, when h...           Buksam   \n",
              "\n",
              "                                              genres       lastUpdated  \\\n",
              "0  Action|Adventure|Martial arts|Mature|Supernatu...  2023-07-10 23:12   \n",
              "1                                             Action  2022-08-21 20:55   \n",
              "2              Action|Adventure|Fantasy|Martial arts  2023-04-18 21:56   \n",
              "3  Action|Comedy|Cooking|Drama|Horror|Romance|Sho...  2019-04-14 18:25   \n",
              "4  Go Ha Som|Working Brain Please|Action|Drama|Fa...  2024-03-30 13:43   \n",
              "\n",
              "       views  \n",
              "0  9000000.0  \n",
              "1  9000000.0  \n",
              "2  9000000.0  \n",
              "3  9000000.0  \n",
              "4  9000000.0  "
            ]
          },
          "execution_count": 13,
          "metadata": {},
          "output_type": "execute_result"
        }
      ],
      "source": [
        "# Convert the manga list to a DataFrame\n",
        "mangas_df = pd.DataFrame(mangas)\n",
        "mangas_df.head()\n"
      ]
    },
    {
      "cell_type": "code",
      "execution_count": 15,
      "metadata": {},
      "outputs": [
        {
          "data": {
            "text/html": [
              "<div>\n",
              "<style scoped>\n",
              "    .dataframe tbody tr th:only-of-type {\n",
              "        vertical-align: middle;\n",
              "    }\n",
              "\n",
              "    .dataframe tbody tr th {\n",
              "        vertical-align: top;\n",
              "    }\n",
              "\n",
              "    .dataframe thead th {\n",
              "        text-align: right;\n",
              "    }\n",
              "</style>\n",
              "<table border=\"1\" class=\"dataframe\">\n",
              "  <thead>\n",
              "    <tr style=\"text-align: right;\">\n",
              "      <th></th>\n",
              "      <th>title</th>\n",
              "      <th>img</th>\n",
              "      <th>latestChapter</th>\n",
              "      <th>rating</th>\n",
              "      <th>src</th>\n",
              "      <th>id</th>\n",
              "      <th>titleId</th>\n",
              "      <th>description</th>\n",
              "      <th>authors</th>\n",
              "      <th>genres</th>\n",
              "      <th>lastUpdated</th>\n",
              "      <th>views</th>\n",
              "    </tr>\n",
              "  </thead>\n",
              "  <tbody>\n",
              "    <tr>\n",
              "      <th>0</th>\n",
              "      <td>Rebirth Of The Immortal Venerable</td>\n",
              "      <td>/mangaimage/manga-nr990726.jpg</td>\n",
              "      <td>Chapter 209</td>\n",
              "      <td>3.83</td>\n",
              "      <td>/manga/manga-nr990726</td>\n",
              "      <td>manga-nr990726</td>\n",
              "      <td>Rebirth Of The Immortal Venerable</td>\n",
              "      <td>Rebirth of the Immortal Venerable summary is u...</td>\n",
              "      <td>Daxiedao Anime</td>\n",
              "      <td>Action|Adventure|Martial arts|Mature|Supernatu...</td>\n",
              "      <td>2023-07-10 23:12</td>\n",
              "      <td>9000000.0</td>\n",
              "    </tr>\n",
              "    <tr>\n",
              "      <th>1</th>\n",
              "      <td>Target 1 Billion Points! Open The Ultimate Gam...</td>\n",
              "      <td>/mangaimage/manga-hy985133.jpg</td>\n",
              "      <td>Chapter 74</td>\n",
              "      <td>3.89</td>\n",
              "      <td>/manga/manga-hy985133</td>\n",
              "      <td>manga-hy985133</td>\n",
              "      <td>Target 1 Billion Points! Open The Ultimate Gam...</td>\n",
              "      <td>Xie Yu kept himself closed because of the deat...</td>\n",
              "      <td>炽翊漫画</td>\n",
              "      <td>Action</td>\n",
              "      <td>2022-08-21 20:55</td>\n",
              "      <td>9000000.0</td>\n",
              "    </tr>\n",
              "    <tr>\n",
              "      <th>2</th>\n",
              "      <td>Lan Ke Qi Yuan</td>\n",
              "      <td>/mangaimage/manga-ml989594.jpg</td>\n",
              "      <td>Chapter 203</td>\n",
              "      <td>4.66</td>\n",
              "      <td>/manga/manga-ml989594</td>\n",
              "      <td>manga-ml989594</td>\n",
              "      <td>Lan Ke Qi Yuan</td>\n",
              "      <td>Lan Ke Qi Yuan is a Manga/Manhwa/Manhua in (En...</td>\n",
              "      <td>阅文漫画</td>\n",
              "      <td>Action|Adventure|Fantasy|Martial arts</td>\n",
              "      <td>2023-04-18 21:56</td>\n",
              "      <td>9000000.0</td>\n",
              "    </tr>\n",
              "    <tr>\n",
              "      <th>3</th>\n",
              "      <td>Sankarea</td>\n",
              "      <td>/mangaimage/manga-be956713.jpg</td>\n",
              "      <td>Vol.11 Chapter 56.5: Extra: Sankarea If</td>\n",
              "      <td>4.74</td>\n",
              "      <td>/manga/manga-be956713</td>\n",
              "      <td>manga-be956713</td>\n",
              "      <td>Sankarea</td>\n",
              "      <td>Chihiro Furuya is a male high-school student h...</td>\n",
              "      <td>Hattori Mitsuru</td>\n",
              "      <td>Action|Comedy|Cooking|Drama|Horror|Romance|Sho...</td>\n",
              "      <td>2019-04-14 18:25</td>\n",
              "      <td>9000000.0</td>\n",
              "    </tr>\n",
              "    <tr>\n",
              "      <th>4</th>\n",
              "      <td>Martial Streamer</td>\n",
              "      <td>/mangaimage/manga-qc993611.jpg</td>\n",
              "      <td>Chapter 41</td>\n",
              "      <td>4.68</td>\n",
              "      <td>/manga/manga-qc993611</td>\n",
              "      <td>manga-qc993611</td>\n",
              "      <td>Martial Streamer</td>\n",
              "      <td>TaeMin was a student taking a gap year, when h...</td>\n",
              "      <td>Buksam</td>\n",
              "      <td>Go Ha Som|Working Brain Please|Action|Drama|Fa...</td>\n",
              "      <td>2024-03-30 13:43</td>\n",
              "      <td>9000000.0</td>\n",
              "    </tr>\n",
              "  </tbody>\n",
              "</table>\n",
              "</div>"
            ],
            "text/plain": [
              "                                               title  \\\n",
              "0                  Rebirth Of The Immortal Venerable   \n",
              "1  Target 1 Billion Points! Open The Ultimate Gam...   \n",
              "2                                     Lan Ke Qi Yuan   \n",
              "3                                           Sankarea   \n",
              "4                                   Martial Streamer   \n",
              "\n",
              "                              img                            latestChapter  \\\n",
              "0  /mangaimage/manga-nr990726.jpg                              Chapter 209   \n",
              "1  /mangaimage/manga-hy985133.jpg                               Chapter 74   \n",
              "2  /mangaimage/manga-ml989594.jpg                              Chapter 203   \n",
              "3  /mangaimage/manga-be956713.jpg  Vol.11 Chapter 56.5: Extra: Sankarea If   \n",
              "4  /mangaimage/manga-qc993611.jpg                               Chapter 41   \n",
              "\n",
              "  rating                    src              id  \\\n",
              "0   3.83  /manga/manga-nr990726  manga-nr990726   \n",
              "1   3.89  /manga/manga-hy985133  manga-hy985133   \n",
              "2   4.66  /manga/manga-ml989594  manga-ml989594   \n",
              "3   4.74  /manga/manga-be956713  manga-be956713   \n",
              "4   4.68  /manga/manga-qc993611  manga-qc993611   \n",
              "\n",
              "                                             titleId  \\\n",
              "0                  Rebirth Of The Immortal Venerable   \n",
              "1  Target 1 Billion Points! Open The Ultimate Gam...   \n",
              "2                                     Lan Ke Qi Yuan   \n",
              "3                                           Sankarea   \n",
              "4                                   Martial Streamer   \n",
              "\n",
              "                                         description          authors  \\\n",
              "0  Rebirth of the Immortal Venerable summary is u...   Daxiedao Anime   \n",
              "1  Xie Yu kept himself closed because of the deat...             炽翊漫画   \n",
              "2  Lan Ke Qi Yuan is a Manga/Manhwa/Manhua in (En...             阅文漫画   \n",
              "3  Chihiro Furuya is a male high-school student h...  Hattori Mitsuru   \n",
              "4  TaeMin was a student taking a gap year, when h...           Buksam   \n",
              "\n",
              "                                              genres       lastUpdated  \\\n",
              "0  Action|Adventure|Martial arts|Mature|Supernatu...  2023-07-10 23:12   \n",
              "1                                             Action  2022-08-21 20:55   \n",
              "2              Action|Adventure|Fantasy|Martial arts  2023-04-18 21:56   \n",
              "3  Action|Comedy|Cooking|Drama|Horror|Romance|Sho...  2019-04-14 18:25   \n",
              "4  Go Ha Som|Working Brain Please|Action|Drama|Fa...  2024-03-30 13:43   \n",
              "\n",
              "       views  \n",
              "0  9000000.0  \n",
              "1  9000000.0  \n",
              "2  9000000.0  \n",
              "3  9000000.0  \n",
              "4  9000000.0  "
            ]
          },
          "execution_count": 15,
          "metadata": {},
          "output_type": "execute_result"
        }
      ],
      "source": [
        "# For this example, let's simulate manga embeddings\n",
        "# Normally, you would use a more sophisticated method to generate embeddings\n",
        "np.random.seed(42)  # For reproducibility\n",
        "mangas_df.head()"
      ]
    },
    {
      "cell_type": "code",
      "execution_count": 16,
      "metadata": {},
      "outputs": [],
      "source": [
        "# Save to CSV if needed\n",
        "mangas_df.to_csv('./files/mangas_embedd.csv', index=False)\n"
      ]
    },
    {
      "cell_type": "code",
      "execution_count": 35,
      "metadata": {
        "id": "y9Fn7l9x7sGj",
        "outputId": "7401720b-b992-45ca-9f38-a7a36a34cd48"
      },
      "outputs": [],
      "source": [
        "import lancedb\n",
        "import numpy as np\n",
        "import pandas as pd\n",
        "from hashlib import md5\n"
      ]
    },
    {
      "cell_type": "code",
      "execution_count": 36,
      "metadata": {},
      "outputs": [
        {
          "ename": "ParserError",
          "evalue": "Error tokenizing data. C error: Expected 12 fields in line 1143, saw 18\n",
          "output_type": "error",
          "traceback": [
            "\u001b[0;31m---------------------------------------------------------------------------\u001b[0m",
            "\u001b[0;31mParserError\u001b[0m                               Traceback (most recent call last)",
            "Cell \u001b[0;32mIn[36], line 2\u001b[0m\n\u001b[1;32m      1\u001b[0m \u001b[38;5;66;03m# Load manga data\u001b[39;00m\n\u001b[0;32m----> 2\u001b[0m mangas \u001b[38;5;241m=\u001b[39m \u001b[43mpd\u001b[49m\u001b[38;5;241;43m.\u001b[39;49m\u001b[43mread_csv\u001b[49m\u001b[43m(\u001b[49m\u001b[38;5;124;43m'\u001b[39;49m\u001b[38;5;124;43m./files/test.csv\u001b[39;49m\u001b[38;5;124;43m'\u001b[39;49m\u001b[43m)\u001b[49m\n\u001b[1;32m      3\u001b[0m mangas\u001b[38;5;241m.\u001b[39mdrop_duplicates(subset\u001b[38;5;241m=\u001b[39m[\u001b[38;5;124m'\u001b[39m\u001b[38;5;124mtitle\u001b[39m\u001b[38;5;124m'\u001b[39m], inplace\u001b[38;5;241m=\u001b[39m\u001b[38;5;28;01mTrue\u001b[39;00m)\n\u001b[1;32m      4\u001b[0m mangas\u001b[38;5;241m.\u001b[39mfillna(\u001b[38;5;124m'\u001b[39m\u001b[38;5;124m'\u001b[39m, inplace\u001b[38;5;241m=\u001b[39m\u001b[38;5;28;01mTrue\u001b[39;00m)  \u001b[38;5;66;03m# Handle missing values\u001b[39;00m\n",
            "File \u001b[0;32m/usr/local/lib/python3.11/site-packages/pandas/io/parsers/readers.py:1026\u001b[0m, in \u001b[0;36mread_csv\u001b[0;34m(filepath_or_buffer, sep, delimiter, header, names, index_col, usecols, dtype, engine, converters, true_values, false_values, skipinitialspace, skiprows, skipfooter, nrows, na_values, keep_default_na, na_filter, verbose, skip_blank_lines, parse_dates, infer_datetime_format, keep_date_col, date_parser, date_format, dayfirst, cache_dates, iterator, chunksize, compression, thousands, decimal, lineterminator, quotechar, quoting, doublequote, escapechar, comment, encoding, encoding_errors, dialect, on_bad_lines, delim_whitespace, low_memory, memory_map, float_precision, storage_options, dtype_backend)\u001b[0m\n\u001b[1;32m   1013\u001b[0m kwds_defaults \u001b[38;5;241m=\u001b[39m _refine_defaults_read(\n\u001b[1;32m   1014\u001b[0m     dialect,\n\u001b[1;32m   1015\u001b[0m     delimiter,\n\u001b[0;32m   (...)\u001b[0m\n\u001b[1;32m   1022\u001b[0m     dtype_backend\u001b[38;5;241m=\u001b[39mdtype_backend,\n\u001b[1;32m   1023\u001b[0m )\n\u001b[1;32m   1024\u001b[0m kwds\u001b[38;5;241m.\u001b[39mupdate(kwds_defaults)\n\u001b[0;32m-> 1026\u001b[0m \u001b[38;5;28;01mreturn\u001b[39;00m \u001b[43m_read\u001b[49m\u001b[43m(\u001b[49m\u001b[43mfilepath_or_buffer\u001b[49m\u001b[43m,\u001b[49m\u001b[43m \u001b[49m\u001b[43mkwds\u001b[49m\u001b[43m)\u001b[49m\n",
            "File \u001b[0;32m/usr/local/lib/python3.11/site-packages/pandas/io/parsers/readers.py:626\u001b[0m, in \u001b[0;36m_read\u001b[0;34m(filepath_or_buffer, kwds)\u001b[0m\n\u001b[1;32m    623\u001b[0m     \u001b[38;5;28;01mreturn\u001b[39;00m parser\n\u001b[1;32m    625\u001b[0m \u001b[38;5;28;01mwith\u001b[39;00m parser:\n\u001b[0;32m--> 626\u001b[0m     \u001b[38;5;28;01mreturn\u001b[39;00m \u001b[43mparser\u001b[49m\u001b[38;5;241;43m.\u001b[39;49m\u001b[43mread\u001b[49m\u001b[43m(\u001b[49m\u001b[43mnrows\u001b[49m\u001b[43m)\u001b[49m\n",
            "File \u001b[0;32m/usr/local/lib/python3.11/site-packages/pandas/io/parsers/readers.py:1923\u001b[0m, in \u001b[0;36mTextFileReader.read\u001b[0;34m(self, nrows)\u001b[0m\n\u001b[1;32m   1916\u001b[0m nrows \u001b[38;5;241m=\u001b[39m validate_integer(\u001b[38;5;124m\"\u001b[39m\u001b[38;5;124mnrows\u001b[39m\u001b[38;5;124m\"\u001b[39m, nrows)\n\u001b[1;32m   1917\u001b[0m \u001b[38;5;28;01mtry\u001b[39;00m:\n\u001b[1;32m   1918\u001b[0m     \u001b[38;5;66;03m# error: \"ParserBase\" has no attribute \"read\"\u001b[39;00m\n\u001b[1;32m   1919\u001b[0m     (\n\u001b[1;32m   1920\u001b[0m         index,\n\u001b[1;32m   1921\u001b[0m         columns,\n\u001b[1;32m   1922\u001b[0m         col_dict,\n\u001b[0;32m-> 1923\u001b[0m     ) \u001b[38;5;241m=\u001b[39m \u001b[38;5;28;43mself\u001b[39;49m\u001b[38;5;241;43m.\u001b[39;49m\u001b[43m_engine\u001b[49m\u001b[38;5;241;43m.\u001b[39;49m\u001b[43mread\u001b[49m\u001b[43m(\u001b[49m\u001b[43m  \u001b[49m\u001b[38;5;66;43;03m# type: ignore[attr-defined]\u001b[39;49;00m\n\u001b[1;32m   1924\u001b[0m \u001b[43m        \u001b[49m\u001b[43mnrows\u001b[49m\n\u001b[1;32m   1925\u001b[0m \u001b[43m    \u001b[49m\u001b[43m)\u001b[49m\n\u001b[1;32m   1926\u001b[0m \u001b[38;5;28;01mexcept\u001b[39;00m \u001b[38;5;167;01mException\u001b[39;00m:\n\u001b[1;32m   1927\u001b[0m     \u001b[38;5;28mself\u001b[39m\u001b[38;5;241m.\u001b[39mclose()\n",
            "File \u001b[0;32m/usr/local/lib/python3.11/site-packages/pandas/io/parsers/c_parser_wrapper.py:234\u001b[0m, in \u001b[0;36mCParserWrapper.read\u001b[0;34m(self, nrows)\u001b[0m\n\u001b[1;32m    232\u001b[0m \u001b[38;5;28;01mtry\u001b[39;00m:\n\u001b[1;32m    233\u001b[0m     \u001b[38;5;28;01mif\u001b[39;00m \u001b[38;5;28mself\u001b[39m\u001b[38;5;241m.\u001b[39mlow_memory:\n\u001b[0;32m--> 234\u001b[0m         chunks \u001b[38;5;241m=\u001b[39m \u001b[38;5;28;43mself\u001b[39;49m\u001b[38;5;241;43m.\u001b[39;49m\u001b[43m_reader\u001b[49m\u001b[38;5;241;43m.\u001b[39;49m\u001b[43mread_low_memory\u001b[49m\u001b[43m(\u001b[49m\u001b[43mnrows\u001b[49m\u001b[43m)\u001b[49m\n\u001b[1;32m    235\u001b[0m         \u001b[38;5;66;03m# destructive to chunks\u001b[39;00m\n\u001b[1;32m    236\u001b[0m         data \u001b[38;5;241m=\u001b[39m _concatenate_chunks(chunks)\n",
            "File \u001b[0;32mparsers.pyx:838\u001b[0m, in \u001b[0;36mpandas._libs.parsers.TextReader.read_low_memory\u001b[0;34m()\u001b[0m\n",
            "File \u001b[0;32mparsers.pyx:905\u001b[0m, in \u001b[0;36mpandas._libs.parsers.TextReader._read_rows\u001b[0;34m()\u001b[0m\n",
            "File \u001b[0;32mparsers.pyx:874\u001b[0m, in \u001b[0;36mpandas._libs.parsers.TextReader._tokenize_rows\u001b[0;34m()\u001b[0m\n",
            "File \u001b[0;32mparsers.pyx:891\u001b[0m, in \u001b[0;36mpandas._libs.parsers.TextReader._check_tokenize_status\u001b[0;34m()\u001b[0m\n",
            "File \u001b[0;32mparsers.pyx:2061\u001b[0m, in \u001b[0;36mpandas._libs.parsers.raise_parser_error\u001b[0;34m()\u001b[0m\n",
            "\u001b[0;31mParserError\u001b[0m: Error tokenizing data. C error: Expected 12 fields in line 1143, saw 18\n"
          ]
        }
      ],
      "source": [
        "# Load manga data\n",
        "mangas = pd.read_csv('./files/test.csv')\n",
        "mangas.drop_duplicates(subset=['title'], inplace=True)\n",
        "mangas.fillna('', inplace=True)  # Handle missing values\n"
      ]
    },
    {
      "cell_type": "code",
      "execution_count": 24,
      "metadata": {
        "id": "Kmuv9gxf7sGm",
        "outputId": "5adb9c08-13b7-4807-999f-e728d7f2c9a7"
      },
      "outputs": [],
      "source": [
        "# Encoding functions for different attributes\n",
        "def encode_text(text):\n",
        "    \"\"\"Simplified encoding for text attributes to a fixed-size vector.\"\"\"\n",
        "    hash_digest = md5(text.encode('utf-8')).hexdigest()\n",
        "    return np.array([int(hash_digest[i:i+2], 16) for i in range(0, len(hash_digest), 2)])\n",
        "\n",
        "def encode_numeric(value, max_value):\n",
        "    \"\"\"Normalize numeric values.\"\"\"\n",
        "    return np.array([float(value) / max_value])\n",
        "\n",
        "def encode_date(date_str):\n",
        "    \"\"\"Convert dates into a timestamp.\"\"\"\n",
        "    try:\n",
        "        return np.array([pd.to_datetime(date_str).timestamp()])\n",
        "    except:\n",
        "        return np.array([0.0])"
      ]
    },
    {
      "cell_type": "code",
      "execution_count": 25,
      "metadata": {},
      "outputs": [],
      "source": [
        "# Vector generation for each manga based on specified attributes\n",
        "def generate_vector(manga, attributes):\n",
        "    vector_parts = []\n",
        "    if 'title' in attributes:\n",
        "        vector_parts.append(encode_text(manga['title']))\n",
        "    if 'description' in attributes:\n",
        "        vector_parts.append(encode_text(manga['description']))\n",
        "    if 'authors' in attributes:\n",
        "        vector_parts.append(encode_text(manga['authors']))\n",
        "    if 'genres' in attributes:\n",
        "        vector_parts.append(encode_text(manga['genres']))\n",
        "    if 'rating' in attributes:\n",
        "        vector_parts.append(encode_numeric(manga['rating'], 5))  # Assuming rating is out of 5\n",
        "    if 'views' in attributes:\n",
        "        vector_parts.append(encode_numeric(manga['views'], 1e9))  # Assuming max views is 1 billion for normalization\n",
        "    if 'latestChapter' in attributes:\n",
        "        vector_parts.append(encode_text(manga['latestChapter']))\n",
        "    if 'lastUpdated' in attributes:\n",
        "        vector_parts.append(encode_date(manga['lastUpdated']))\n",
        "    return np.concatenate(vector_parts)"
      ]
    },
    {
      "cell_type": "code",
      "execution_count": 26,
      "metadata": {},
      "outputs": [],
      "source": [
        "# Prepare data for LanceDB with dynamic attribute selection\n",
        "attributes = ['title', 'description', 'authors', 'genres', 'rating', 'views', 'latestChapter', 'lastUpdated']\n",
        "mangas['vector'] = mangas.apply(lambda row: generate_vector(row, attributes), axis=1)\n",
        "\n",
        "data = [{\n",
        "    \"id\": row['id'],\n",
        "    \"title\": row['title'],\n",
        "    \"vector\": row['vector'].tolist(),\n",
        "} for index, row in mangas.iterrows()]"
      ]
    },
    {
      "cell_type": "code",
      "execution_count": 29,
      "metadata": {},
      "outputs": [],
      "source": [
        "# Connect to LanceDB\n",
        "db = lancedb.connect(\"./data/manga-db\")\n",
        "try:\n",
        "    db.drop_table(\"manga_set\")\n",
        "except Exception as e:\n",
        "    print(\"Dropping table failed:\", e)\n",
        "\n",
        "table = db.create_table(\"manga_set\", data=data)\n"
      ]
    },
    {
      "cell_type": "code",
      "execution_count": 30,
      "metadata": {},
      "outputs": [],
      "source": [
        "def get_recommendations(query_title, limit=10):\n",
        "    query_vector = next(row['vector'] for index, row in mangas.iterrows() if row[\"title\"] == query_title)\n",
        "    result = table.search(query_vector).limit(limit + 1).to_pandas()\n",
        "    return result[result['title'] != query_title][['title']].head(limit)\n"
      ]
    },
    {
      "cell_type": "markdown",
      "metadata": {
        "id": "KoiIKjZx7sGv"
      },
      "source": [
        "## Get the Recommendations\n",
        "Finally, we can create a function that takes a manga title and returns the top 5 similar mangas. By searching in our vector store for the embeddings of the manga, we can return a dataframe of the most similar mangas. We can also add some flair reading and displaying the links of each manga."
      ]
    },
    {
      "cell_type": "code",
      "execution_count": 34,
      "metadata": {},
      "outputs": [
        {
          "name": "stdout",
          "output_type": "stream",
          "text": [
            "                                                title\n",
            "1                                     Akuma No Yuusha\n",
            "2                                   I Am Space☆Dandy!\n",
            "3                                      Lan Ke Qi Yuan\n",
            "4                                           Ssam Bbak\n",
            "5                                        Unparalleled\n",
            "6                              Please Love Me Gentle.\n",
            "7                   I Have A Post-Apocalyptic Dungeon\n",
            "8                                             Hiniiru\n",
            "9                            Introduction To Survival\n",
            "10                                      Video Girl Ai\n",
            "11                                City: Crime Stories\n",
            "12  Houkago Wa Kenka Saikyou No Gyaru Ni Tsurekoma...\n",
            "13         That Is Needed For A Villainous Aristocrat\n",
            "14                                            Coppers\n",
            "15                                    Phantom Busters\n",
            "16                                           Chong Zi\n",
            "17                                   Burial Sword Art\n",
            "18                               Yu-Gi-Oh Ocg Stories\n",
            "19                                   Martial Streamer\n",
            "20              Hunter Academy’S Strongest Battle God\n"
          ]
        }
      ],
      "source": [
        "# Example usage\n",
        "print(get_recommendations(\"Rebirth Of The Immortal Venerable\", limit=20))\n"
      ]
    },
    {
      "cell_type": "markdown",
      "metadata": {
        "id": "zsXoZEBL7sGw"
      },
      "source": [
        "## Tada!! your first manga recommendation system is live\n",
        "\n",
        "Of course, this won't be completely accurate. There are other ways improve the accuracy, such as `reducing the dimensions` of the original data, or filtering out users/mangas with few ratings. But this is a good start to building a manga recommender system."
      ]
    }
  ],
  "metadata": {
    "colab": {
      "provenance": []
    },
    "kernelspec": {
      "display_name": "Python 3 (ipykernel)",
      "language": "python",
      "name": "python3"
    },
    "language_info": {
      "codemirror_mode": {
        "name": "ipython",
        "version": 3
      },
      "file_extension": ".py",
      "mimetype": "text/x-python",
      "name": "python",
      "nbconvert_exporter": "python",
      "pygments_lexer": "ipython3",
      "version": "3.11.9"
    }
  },
  "nbformat": 4,
  "nbformat_minor": 0
}
